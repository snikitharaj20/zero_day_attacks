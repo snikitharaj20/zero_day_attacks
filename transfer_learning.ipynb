{
 "cells": [
  {
   "cell_type": "markdown",
   "metadata": {},
   "source": [
    "# Importing Necessary Libraries"
   ]
  },
  {
   "cell_type": "code",
   "execution_count": null,
   "metadata": {},
   "outputs": [],
   "source": [
    "#importing necessary libraries\n",
    "import pandas as pd\n",
    "import numpy as np\n",
    "from keras.models import Sequential\n",
    "from keras.layers import Dense\n",
    "from keras.optimizers import Adam\n",
    "from sklearn.model_selection import train_test_split\n",
    "from sklearn.metrics import f1_score\n",
    "import warnings\n",
    "warnings.filterwarnings('ignore')"
   ]
  },
  {
   "attachments": {},
   "cell_type": "markdown",
   "metadata": {},
   "source": [
    "## Reading dataset and taking feature and label columns"
   ]
  },
  {
   "cell_type": "code",
   "execution_count": null,
   "metadata": {},
   "outputs": [],
   "source": [
    "#load dataset from a csv file using pandas\n",
    "data=pd.read_csv(r\"D:\\Stuff\\CyberSec\\Datasets\\IDS2018\\02-14-2018_processed.csv\")\n",
    "\n",
    "#split the dataset into input features and target variables\n",
    "X=data.drop(['Label'],axis=1).values\n",
    "Y=data['Label'].values\n",
    "\n",
    "#split the data into training and testing\n",
    "#test size is set to 20% of the entire dataset\n",
    "X_train,X_test,Y_train,Y_test=train_test_split(X,Y,test_size=0.2,random_state=42)\n"
   ]
  },
  {
   "attachments": {},
   "cell_type": "markdown",
   "metadata": {},
   "source": [
    "## Defining Sequential model "
   ]
  },
  {
   "cell_type": "code",
   "execution_count": null,
   "metadata": {},
   "outputs": [],
   "source": [
    "#create a sequential model object\n",
    "model = Sequential()\n",
    "#add a dense layer with input dimention as number of features\n",
    "model.add(Dense(64, input_dim=X_train.shape[1], activation='relu'))\n",
    "#add a dense layer with relu activation function\n",
    "model.add(Dense(32, activation='relu'))\n",
    "#add a dense single output layer with sigmoid activation function\n",
    "#this layer is used for binary classification i.e output is 0 or 1\n",
    "model.add(Dense(1, activation='sigmoid'))"
   ]
  },
  {
   "attachments": {},
   "cell_type": "markdown",
   "metadata": {},
   "source": [
    "## Training and Saving the model weights"
   ]
  },
  {
   "cell_type": "code",
   "execution_count": null,
   "metadata": {},
   "outputs": [],
   "source": [
    "# Define the optimizer for the model\n",
    "optimizer = Adam(learning_rate=0.001)\n",
    "\n",
    "# Compile the model by specifying the loss function, optimizer and evaluation metrics\n",
    "# For binary classification, binary_crossentropy loss function is commonly used\n",
    "model.compile(loss='binary_crossentropy', optimizer=optimizer, metrics=['accuracy'])\n",
    "\n",
    "# Train the model using the fit() method\n",
    "model.fit(X_train, Y_train, epochs=10, batch_size=32, validation_data=(X_test, Y_test))\n",
    "\n",
    "# Save the trained weights of the model to a file named \"pre_trained.h5\"\n",
    "model.save_weights('pre_trained.h5')"
   ]
  },
  {
   "attachments": {},
   "cell_type": "markdown",
   "metadata": {},
   "source": [
    "## Importing the Dataset and extracting features and target"
   ]
  },
  {
   "cell_type": "code",
   "execution_count": null,
   "metadata": {},
   "outputs": [],
   "source": [
    "# Load dataset from a CSV file using pandas\n",
    "data=pd.read_csv(r\"D:\\Stuff\\CyberSec\\Datasets\\IDS2018\\02-14-2018_processed.csv\")\n",
    "\n",
    "# Split the dataset into input features and target variable\n",
    "x=data.drop('Label',axis=1).values\n",
    "y=data['Label'].values\n",
    "\n",
    "# Split the data into training and testing sets\n",
    "X_train,X_test,Y_train,Y_test=train_test_split(x,y,test_size=0.2,random_state=42)\n"
   ]
  },
  {
   "attachments": {},
   "cell_type": "markdown",
   "metadata": {},
   "source": [
    "## Defining sequential model"
   ]
  },
  {
   "cell_type": "code",
   "execution_count": null,
   "metadata": {},
   "outputs": [],
   "source": [
    "#create a sequential model object\n",
    "model = Sequential()\n",
    "#add a dense layer with input dimention as number of features\n",
    "model.add(Dense(64, input_dim=x.shape[1], activation='relu'))\n",
    "#add a dense layer with relu activation function\n",
    "model.add(Dense(32, activation='relu'))\n",
    "#add a dense single output layer with sigmoid activation function\n",
    "#this layer is used for binary classification i.e output is 0 or 1\n",
    "model.add(Dense(1, activation='sigmoid'))"
   ]
  },
  {
   "attachments": {},
   "cell_type": "markdown",
   "metadata": {},
   "source": [
    "## Loading the weights from pre trained model"
   ]
  },
  {
   "cell_type": "code",
   "execution_count": null,
   "metadata": {},
   "outputs": [],
   "source": [
    "#load the weights from the file \"pre_trained.h5\"\n",
    "model.load_weights('pre_trained.h5')"
   ]
  },
  {
   "attachments": {},
   "cell_type": "markdown",
   "metadata": {},
   "source": [
    "## Fine-tuning the model and evaluating it's performance"
   ]
  },
  {
   "cell_type": "code",
   "execution_count": null,
   "metadata": {},
   "outputs": [],
   "source": [
    "# Define the optimizer for the model\n",
    "optimizer = Adam(lr=0.001)\n",
    "# Compile the model by specifying the loss function, optimizer and evaluation metrics\n",
    "model.compile(loss='binary_crossentropy', optimizer=optimizer, metrics=['accuracy'])\n",
    "# Train the model using the fit() method\n",
    "model.fit(x, y, epochs=3, batch_size=32)\n",
    "\n",
    "# Predict the class probabilities of the input data using the trained model\n",
    "predictions=model.predict(x)\n",
    "\n",
    "# Evaluate the performance of the model\n",
    "loss,accuracy=model.evaluate(X_test,Y_test)\n",
    "# Predict the class probabilities by thresholding at 0.5\n",
    "Y_pred=model.predict(X_test)\n",
    "Y_pred=(Y_pred>0.5)\n",
    "\n",
    "# Print the test loss and accuracy of the model\n",
    "print('Test loss:', loss)\n",
    "print('Test accuracy:', accuracy)"
   ]
  }
 ],
 "metadata": {
  "kernelspec": {
   "display_name": "Python 3 (ipykernel)",
   "language": "python",
   "name": "python3"
  },
  "language_info": {
   "codemirror_mode": {
    "name": "ipython",
    "version": 3
   },
   "file_extension": ".py",
   "mimetype": "text/x-python",
   "name": "python",
   "nbconvert_exporter": "python",
   "pygments_lexer": "ipython3",
   "version": "3.10.9"
  }
 },
 "nbformat": 4,
 "nbformat_minor": 2
}
